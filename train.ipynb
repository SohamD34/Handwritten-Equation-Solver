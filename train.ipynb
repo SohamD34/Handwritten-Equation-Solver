{
 "cells": [
  {
   "cell_type": "code",
   "execution_count": 4,
   "metadata": {},
   "outputs": [],
   "source": [
    "import pandas as pd\n",
    "import numpy as np\n",
    "import pickle\n",
    "import torch\n",
    "from torch.nn import Sequential, ReLU, Module, Dropout, Sigmoid, Linear, BatchNorm2d\n",
    "from torch.optim import Adam\n",
    "from torch.utils.data import DataLoader\n",
    "import torchvision\n",
    "from torchvision import datasets, transforms\n",
    "from torchvision.datasets import ImageFolder\n",
    "import torch.nn.functional as F\n",
    "import torchvision.utils as vutils\n",
    "import pickle\n",
    "import os\n",
    "import matplotlib.pyplot as plt"
   ]
  },
  {
   "cell_type": "code",
   "execution_count": 16,
   "metadata": {},
   "outputs": [
    {
     "name": "stdout",
     "output_type": "stream",
     "text": [
      "107\n"
     ]
    }
   ],
   "source": [
    "data = ImageFolder(root='../Handwritten-Equation-Solver/data/character_data')\n",
    "classes = os.listdir('../Handwritten-Equation-Solver/data/character_data')\n",
    "\n",
    "for i in range(len(classes)):\n",
    "    if(classes[i][0] == \"'\" and classes[i][2] == \"'\"):\n",
    "        classes[i] = classes[i][1]\n",
    "print(len(classes))"
   ]
  },
  {
   "cell_type": "code",
   "execution_count": null,
   "metadata": {},
   "outputs": [],
   "source": [
    "'''\n",
    "Two Convolutional Layers\n",
    "Two MaxPooling Layers\n",
    "Dropout Layer\n",
    "Flatten Layer\n",
    "Two Dense Layers using Relu\n",
    "Output Layer using Softmax\n",
    "Adam Optimizer\n",
    "'''"
   ]
  }
 ],
 "metadata": {
  "kernelspec": {
   "display_name": "Python 3",
   "language": "python",
   "name": "python3"
  },
  "language_info": {
   "codemirror_mode": {
    "name": "ipython",
    "version": 3
   },
   "file_extension": ".py",
   "mimetype": "text/x-python",
   "name": "python",
   "nbconvert_exporter": "python",
   "pygments_lexer": "ipython3",
   "version": "3.10.0"
  }
 },
 "nbformat": 4,
 "nbformat_minor": 2
}
