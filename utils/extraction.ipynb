{
 "cells": [
  {
   "cell_type": "code",
   "execution_count": 9,
   "metadata": {},
   "outputs": [],
   "source": [
    "import numpy as np\n",
    "import cv2\n",
    "from PIL import Image\n",
    "from matplotlib import pyplot as plt\n",
    "import os\n",
    "from os import listdir\n",
    "from os.path import isfile, join\n",
    "import pandas as pd\n",
    "from utils import load_images_from_folder"
   ]
  },
  {
   "cell_type": "code",
   "execution_count": null,
   "metadata": {},
   "outputs": [],
   "source": [
    "data=[]\n",
    "dirs = ['0','1','2','3','4','5','6','7','8','9','equals','plus','minus','times','div']\n",
    "\n",
    "for ascii_num in range(97, 123):    # a-z\n",
    "    dirs.append(chr(ascii_num))\n",
    "\n",
    "for ascii_num in range(65, 91):    # A-Z\n",
    "    dirs.append(chr(ascii_num))\n",
    "\n",
    "for d in dirs:\n",
    "    datax = load_images_from_folder('images/' + d)\n",
    "    for i in range(0,len(datax)):\n",
    "        datax[i] = np.append(datax[i],[str(dirs.index(d))])\n",
    "\n",
    "    if(len(data)!=0):\n",
    "        data = np.concatenate((data,datax))\n",
    "    else:\n",
    "        data = datax\n",
    "\n",
    "df = pd.DataFrame(data,index=None)\n",
    "df.to_csv('data/characters.csv',index=False)\n",
    "\n",
    "char_images = pd.read_csv('../Handwritten-Equation-Solver/data/characters.csv') \n",
    "char_images"
   ]
  },
  {
   "cell_type": "code",
   "execution_count": null,
   "metadata": {},
   "outputs": [],
   "source": [
    "plt.figure(figsize=(20,4))\n",
    "fig,ax = plt.subplots(2,5)\n",
    "\n",
    "for j in range(2):\n",
    "    for i in range(5):\n",
    "        img = char_images.iloc[7 + (i*j+i+1)*1000,:-1]\n",
    "        img = np.array(img)\n",
    "        ax[j][i].imshow(img.reshape(32,32),cmap='gray')\n",
    "\n",
    "plt.tight_layout()\n",
    "plt.show()"
   ]
  }
 ],
 "metadata": {
  "kernelspec": {
   "display_name": "Python 3",
   "language": "python",
   "name": "python3"
  },
  "language_info": {
   "codemirror_mode": {
    "name": "ipython",
    "version": 3
   },
   "file_extension": ".py",
   "mimetype": "text/x-python",
   "name": "python",
   "nbconvert_exporter": "python",
   "pygments_lexer": "ipython3",
   "version": "3.11.8"
  }
 },
 "nbformat": 4,
 "nbformat_minor": 2
}
